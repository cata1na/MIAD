{
 "cells": [
  {
   "cell_type": "markdown",
   "metadata": {},
   "source": [
    "![image info](https://raw.githubusercontent.com/albahnsen/MIAD_ML_and_NLP/main/images/banner_1.png)"
   ]
  },
  {
   "cell_type": "markdown",
   "metadata": {},
   "source": [
    "# Taller: Construcción e implementación de árboles de decisión y métodos de ensamblaje\n",
    "\n",
    "En este taller podrá poner en práctica los sus conocimientos sobre construcción e implementación de árboles de decisión y métodos de ensamblajes. El taller está constituido por 9 puntos, 5 relacionados con árboles de decisión (parte A) y 4 con métodos de ensamblaje (parte B)."
   ]
  },
  {
   "cell_type": "markdown",
   "metadata": {},
   "source": [
    "## Parte A - Árboles de decisión\n",
    "\n",
    "En esta parte del taller se usará el conjunto de datos de Capital Bikeshare de Kaggle, donde cada observación representa el alquiler de bicicletas durante una hora y día determinado. Para más detalles puede visitar los siguientes enlaces: [datos](https://archive.ics.uci.edu/ml/machine-learning-databases/00275/Bike-Sharing-Dataset.zip), [dicccionario de datos](https://archive.ics.uci.edu/ml/datasets/Bike+Sharing+Dataset#)."
   ]
  },
  {
   "cell_type": "markdown",
   "metadata": {},
   "source": [
    "### Datos prestamo de bicicletas"
   ]
  },
  {
   "cell_type": "code",
   "execution_count": 1,
   "metadata": {},
   "outputs": [],
   "source": [
    "import warnings\n",
    "warnings.filterwarnings('ignore')"
   ]
  },
  {
   "cell_type": "code",
   "execution_count": 28,
   "metadata": {},
   "outputs": [],
   "source": [
    "# Importación de librerías\n",
    "%matplotlib inline\n",
    "import pandas as pd\n",
    "import numpy as np\n",
    "import matplotlib.pyplot as plt\n",
    "import seaborn as sns\n",
    "from sklearn.metrics import r2_score\n",
    "from sklearn.metrics import r2_score\n",
    "from sklearn.metrics import accuracy_score, make_scorer, f1_score\n",
    "from sklearn.model_selection import cross_val_score\n",
    "from sklearn.model_selection import train_test_split\n",
    "from sklearn.model_selection import cross_val_score\n",
    "from sklearn.tree import DecisionTreeClassifier\n",
    "from sklearn import linear_model\n",
    "from sklearn.ensemble import BaggingClassifier\n",
    "from sklearn.linear_model import LinearRegression\n",
    "from sklearn.tree import DecisionTreeRegressor, export_graphviz"
   ]
  },
  {
   "cell_type": "code",
   "execution_count": 3,
   "metadata": {},
   "outputs": [
    {
     "data": {
      "text/html": [
       "<div>\n",
       "<style scoped>\n",
       "    .dataframe tbody tr th:only-of-type {\n",
       "        vertical-align: middle;\n",
       "    }\n",
       "\n",
       "    .dataframe tbody tr th {\n",
       "        vertical-align: top;\n",
       "    }\n",
       "\n",
       "    .dataframe thead th {\n",
       "        text-align: right;\n",
       "    }\n",
       "</style>\n",
       "<table border=\"1\" class=\"dataframe\">\n",
       "  <thead>\n",
       "    <tr style=\"text-align: right;\">\n",
       "      <th></th>\n",
       "      <th>season</th>\n",
       "      <th>holiday</th>\n",
       "      <th>workingday</th>\n",
       "      <th>weather</th>\n",
       "      <th>temp</th>\n",
       "      <th>atemp</th>\n",
       "      <th>humidity</th>\n",
       "      <th>windspeed</th>\n",
       "      <th>casual</th>\n",
       "      <th>registered</th>\n",
       "      <th>total</th>\n",
       "      <th>hour</th>\n",
       "    </tr>\n",
       "    <tr>\n",
       "      <th>datetime</th>\n",
       "      <th></th>\n",
       "      <th></th>\n",
       "      <th></th>\n",
       "      <th></th>\n",
       "      <th></th>\n",
       "      <th></th>\n",
       "      <th></th>\n",
       "      <th></th>\n",
       "      <th></th>\n",
       "      <th></th>\n",
       "      <th></th>\n",
       "      <th></th>\n",
       "    </tr>\n",
       "  </thead>\n",
       "  <tbody>\n",
       "    <tr>\n",
       "      <th>2011-01-01 00:00:00</th>\n",
       "      <td>1</td>\n",
       "      <td>0</td>\n",
       "      <td>0</td>\n",
       "      <td>1</td>\n",
       "      <td>9.84</td>\n",
       "      <td>14.395</td>\n",
       "      <td>81</td>\n",
       "      <td>0.0</td>\n",
       "      <td>3</td>\n",
       "      <td>13</td>\n",
       "      <td>16</td>\n",
       "      <td>0</td>\n",
       "    </tr>\n",
       "    <tr>\n",
       "      <th>2011-01-01 01:00:00</th>\n",
       "      <td>1</td>\n",
       "      <td>0</td>\n",
       "      <td>0</td>\n",
       "      <td>1</td>\n",
       "      <td>9.02</td>\n",
       "      <td>13.635</td>\n",
       "      <td>80</td>\n",
       "      <td>0.0</td>\n",
       "      <td>8</td>\n",
       "      <td>32</td>\n",
       "      <td>40</td>\n",
       "      <td>1</td>\n",
       "    </tr>\n",
       "    <tr>\n",
       "      <th>2011-01-01 02:00:00</th>\n",
       "      <td>1</td>\n",
       "      <td>0</td>\n",
       "      <td>0</td>\n",
       "      <td>1</td>\n",
       "      <td>9.02</td>\n",
       "      <td>13.635</td>\n",
       "      <td>80</td>\n",
       "      <td>0.0</td>\n",
       "      <td>5</td>\n",
       "      <td>27</td>\n",
       "      <td>32</td>\n",
       "      <td>2</td>\n",
       "    </tr>\n",
       "    <tr>\n",
       "      <th>2011-01-01 03:00:00</th>\n",
       "      <td>1</td>\n",
       "      <td>0</td>\n",
       "      <td>0</td>\n",
       "      <td>1</td>\n",
       "      <td>9.84</td>\n",
       "      <td>14.395</td>\n",
       "      <td>75</td>\n",
       "      <td>0.0</td>\n",
       "      <td>3</td>\n",
       "      <td>10</td>\n",
       "      <td>13</td>\n",
       "      <td>3</td>\n",
       "    </tr>\n",
       "    <tr>\n",
       "      <th>2011-01-01 04:00:00</th>\n",
       "      <td>1</td>\n",
       "      <td>0</td>\n",
       "      <td>0</td>\n",
       "      <td>1</td>\n",
       "      <td>9.84</td>\n",
       "      <td>14.395</td>\n",
       "      <td>75</td>\n",
       "      <td>0.0</td>\n",
       "      <td>0</td>\n",
       "      <td>1</td>\n",
       "      <td>1</td>\n",
       "      <td>4</td>\n",
       "    </tr>\n",
       "  </tbody>\n",
       "</table>\n",
       "</div>"
      ],
      "text/plain": [
       "                     season  holiday  workingday  weather  temp   atemp  \\\n",
       "datetime                                                                  \n",
       "2011-01-01 00:00:00       1        0           0        1  9.84  14.395   \n",
       "2011-01-01 01:00:00       1        0           0        1  9.02  13.635   \n",
       "2011-01-01 02:00:00       1        0           0        1  9.02  13.635   \n",
       "2011-01-01 03:00:00       1        0           0        1  9.84  14.395   \n",
       "2011-01-01 04:00:00       1        0           0        1  9.84  14.395   \n",
       "\n",
       "                     humidity  windspeed  casual  registered  total  hour  \n",
       "datetime                                                                   \n",
       "2011-01-01 00:00:00        81        0.0       3          13     16     0  \n",
       "2011-01-01 01:00:00        80        0.0       8          32     40     1  \n",
       "2011-01-01 02:00:00        80        0.0       5          27     32     2  \n",
       "2011-01-01 03:00:00        75        0.0       3          10     13     3  \n",
       "2011-01-01 04:00:00        75        0.0       0           1      1     4  "
      ]
     },
     "execution_count": 3,
     "metadata": {},
     "output_type": "execute_result"
    }
   ],
   "source": [
    "# Lectura de la información de archivo .csv\n",
    "bikes = pd.read_csv('https://raw.githubusercontent.com/davidzarruk/MIAD_ML_NLP_2023/main/datasets/bikeshare.csv', index_col='datetime', parse_dates=True)\n",
    "\n",
    "# Renombrar variable \"count\" a \"total\"\n",
    "bikes.rename(columns={'count':'total'}, inplace=True)\n",
    "\n",
    "# Crear la hora como una variable \n",
    "bikes['hour'] = bikes.index.hour\n",
    "\n",
    "# Visualización de los datos\n",
    "bikes.head()"
   ]
  },
  {
   "cell_type": "markdown",
   "metadata": {},
   "source": [
    "### Punto 1 - Análisis descriptivo\n",
    "\n",
    "Ejecute las celdas 1.1 y 1.2. A partir de los resultados realice un análisis descriptivo sobre las variables \"season\" y \"hour\", escriba sus inferencias sobre los datos. Para complementar su análisis puede usar métricas como máximo, mínimo, percentiles entre otros."
   ]
  },
  {
   "cell_type": "code",
   "execution_count": 4,
   "metadata": {
    "scrolled": true
   },
   "outputs": [
    {
     "data": {
      "text/html": [
       "<div>\n",
       "<style scoped>\n",
       "    .dataframe tbody tr th:only-of-type {\n",
       "        vertical-align: middle;\n",
       "    }\n",
       "\n",
       "    .dataframe tbody tr th {\n",
       "        vertical-align: top;\n",
       "    }\n",
       "\n",
       "    .dataframe thead th {\n",
       "        text-align: right;\n",
       "    }\n",
       "</style>\n",
       "<table border=\"1\" class=\"dataframe\">\n",
       "  <thead>\n",
       "    <tr style=\"text-align: right;\">\n",
       "      <th></th>\n",
       "      <th>count</th>\n",
       "      <th>mean</th>\n",
       "      <th>std</th>\n",
       "      <th>min</th>\n",
       "      <th>25%</th>\n",
       "      <th>50%</th>\n",
       "      <th>75%</th>\n",
       "      <th>max</th>\n",
       "    </tr>\n",
       "    <tr>\n",
       "      <th>season</th>\n",
       "      <th></th>\n",
       "      <th></th>\n",
       "      <th></th>\n",
       "      <th></th>\n",
       "      <th></th>\n",
       "      <th></th>\n",
       "      <th></th>\n",
       "      <th></th>\n",
       "    </tr>\n",
       "  </thead>\n",
       "  <tbody>\n",
       "    <tr>\n",
       "      <th>1</th>\n",
       "      <td>2686.0</td>\n",
       "      <td>116.343261</td>\n",
       "      <td>125.273974</td>\n",
       "      <td>1.0</td>\n",
       "      <td>24.0</td>\n",
       "      <td>78.0</td>\n",
       "      <td>164.0</td>\n",
       "      <td>801.0</td>\n",
       "    </tr>\n",
       "    <tr>\n",
       "      <th>2</th>\n",
       "      <td>2733.0</td>\n",
       "      <td>215.251372</td>\n",
       "      <td>192.007843</td>\n",
       "      <td>1.0</td>\n",
       "      <td>49.0</td>\n",
       "      <td>172.0</td>\n",
       "      <td>321.0</td>\n",
       "      <td>873.0</td>\n",
       "    </tr>\n",
       "    <tr>\n",
       "      <th>3</th>\n",
       "      <td>2733.0</td>\n",
       "      <td>234.417124</td>\n",
       "      <td>197.151001</td>\n",
       "      <td>1.0</td>\n",
       "      <td>68.0</td>\n",
       "      <td>195.0</td>\n",
       "      <td>347.0</td>\n",
       "      <td>977.0</td>\n",
       "    </tr>\n",
       "    <tr>\n",
       "      <th>4</th>\n",
       "      <td>2734.0</td>\n",
       "      <td>198.988296</td>\n",
       "      <td>177.622409</td>\n",
       "      <td>1.0</td>\n",
       "      <td>51.0</td>\n",
       "      <td>161.0</td>\n",
       "      <td>294.0</td>\n",
       "      <td>948.0</td>\n",
       "    </tr>\n",
       "  </tbody>\n",
       "</table>\n",
       "</div>"
      ],
      "text/plain": [
       "         count        mean         std  min   25%    50%    75%    max\n",
       "season                                                                \n",
       "1       2686.0  116.343261  125.273974  1.0  24.0   78.0  164.0  801.0\n",
       "2       2733.0  215.251372  192.007843  1.0  49.0  172.0  321.0  873.0\n",
       "3       2733.0  234.417124  197.151001  1.0  68.0  195.0  347.0  977.0\n",
       "4       2734.0  198.988296  177.622409  1.0  51.0  161.0  294.0  948.0"
      ]
     },
     "execution_count": 4,
     "metadata": {},
     "output_type": "execute_result"
    }
   ],
   "source": [
    "# Celda 1.1\n",
    "bikes.groupby('season').total.describe()"
   ]
  },
  {
   "cell_type": "markdown",
   "metadata": {},
   "source": [
    "Season es una variable categórica que adopta 4 valores dependiendo la estación del año: 1. Invierno, 2. Primavera, 3. Verano, 4. Otoño.\n",
    "   * Invierno: Cuenta con el menor número de observaciones (2686) y menor promedio de renta de bicicletas (116) en comparación con el resto de estaciones. Se sugiere asimetría en los datos al comparar la media (116) y el percentil 50% (78). Así mismo su valor mínimo es de 1, máximo de 801 y desviación estandar de 125 (por encima del valor promedio) lo cual sugiere posible presencia de outliers.\n",
    "   * Primavera: Cuenta con 2733 observaciones. En promedio se rentan 215 bicicletas en esta estación. Se sugiere asimetría en los datos al comparar la media (215) y el percentil 50% (172). Su valor mínimo es de 1 y máximo de 873 bicicletas rentadas lo cual pueude sugerir presencia de outliers.\n",
    "   * Verano: Cuenta con 2733 observaciones y el mayor promedio de renta de bicicletas (234) en comparación con el resto de estaciones. Se sugiere asimetría en los datos al comparar la media (234) y el percentil 50% (195). Así mismo su valor mínimo es de 1, máximo de 977 y desviación estandar de 197 (la más alta de las 4 estaciones) lo cual sugiere posible presencia de outliers.\n",
    "   * Otoño: Cuenta con 2734 observaciones. En promedio se rentan 177 bicicletas en esta estación. Se sugiere asimetría en los datos al comparar la media (177) y el percentil 50% (161). Su valor mínimo es de 1 y máximo de 948 bicicletas rentadas lo cual pueude sugerir presencia de outliers.\n",
    "\n",
    "*Hallazgos adicionales :*\n",
    "   * Como es de esperarse las estaciones de mayor frío (invierno y otoño) son los meses donde menos se rentan bicicletas y las de más calor (primavera y verano) es donde se rentan mayor número de bicicletas , esto denota posible estacionalidad en los datos.\n",
    "   * Todas las estaciones presentan asimetría en los datos y posible presencia de outliers."
   ]
  },
  {
   "cell_type": "code",
   "execution_count": 5,
   "metadata": {
    "scrolled": false
   },
   "outputs": [
    {
     "data": {
      "text/html": [
       "<div>\n",
       "<style scoped>\n",
       "    .dataframe tbody tr th:only-of-type {\n",
       "        vertical-align: middle;\n",
       "    }\n",
       "\n",
       "    .dataframe tbody tr th {\n",
       "        vertical-align: top;\n",
       "    }\n",
       "\n",
       "    .dataframe thead th {\n",
       "        text-align: right;\n",
       "    }\n",
       "</style>\n",
       "<table border=\"1\" class=\"dataframe\">\n",
       "  <thead>\n",
       "    <tr style=\"text-align: right;\">\n",
       "      <th></th>\n",
       "      <th>count</th>\n",
       "      <th>mean</th>\n",
       "      <th>std</th>\n",
       "      <th>min</th>\n",
       "      <th>25%</th>\n",
       "      <th>50%</th>\n",
       "      <th>75%</th>\n",
       "      <th>max</th>\n",
       "    </tr>\n",
       "    <tr>\n",
       "      <th>hour</th>\n",
       "      <th></th>\n",
       "      <th></th>\n",
       "      <th></th>\n",
       "      <th></th>\n",
       "      <th></th>\n",
       "      <th></th>\n",
       "      <th></th>\n",
       "      <th></th>\n",
       "    </tr>\n",
       "  </thead>\n",
       "  <tbody>\n",
       "    <tr>\n",
       "      <th>0</th>\n",
       "      <td>455.0</td>\n",
       "      <td>55.138462</td>\n",
       "      <td>43.620012</td>\n",
       "      <td>2.0</td>\n",
       "      <td>24.00</td>\n",
       "      <td>41.0</td>\n",
       "      <td>74.50</td>\n",
       "      <td>283.0</td>\n",
       "    </tr>\n",
       "    <tr>\n",
       "      <th>1</th>\n",
       "      <td>454.0</td>\n",
       "      <td>33.859031</td>\n",
       "      <td>34.112105</td>\n",
       "      <td>1.0</td>\n",
       "      <td>11.00</td>\n",
       "      <td>19.0</td>\n",
       "      <td>46.00</td>\n",
       "      <td>168.0</td>\n",
       "    </tr>\n",
       "    <tr>\n",
       "      <th>2</th>\n",
       "      <td>448.0</td>\n",
       "      <td>22.899554</td>\n",
       "      <td>26.110267</td>\n",
       "      <td>1.0</td>\n",
       "      <td>5.00</td>\n",
       "      <td>11.0</td>\n",
       "      <td>32.00</td>\n",
       "      <td>119.0</td>\n",
       "    </tr>\n",
       "    <tr>\n",
       "      <th>3</th>\n",
       "      <td>433.0</td>\n",
       "      <td>11.757506</td>\n",
       "      <td>12.666442</td>\n",
       "      <td>1.0</td>\n",
       "      <td>3.00</td>\n",
       "      <td>6.0</td>\n",
       "      <td>15.00</td>\n",
       "      <td>66.0</td>\n",
       "    </tr>\n",
       "    <tr>\n",
       "      <th>4</th>\n",
       "      <td>442.0</td>\n",
       "      <td>6.407240</td>\n",
       "      <td>4.217633</td>\n",
       "      <td>1.0</td>\n",
       "      <td>3.00</td>\n",
       "      <td>6.0</td>\n",
       "      <td>9.00</td>\n",
       "      <td>28.0</td>\n",
       "    </tr>\n",
       "    <tr>\n",
       "      <th>5</th>\n",
       "      <td>452.0</td>\n",
       "      <td>19.767699</td>\n",
       "      <td>12.784293</td>\n",
       "      <td>1.0</td>\n",
       "      <td>8.00</td>\n",
       "      <td>19.0</td>\n",
       "      <td>29.00</td>\n",
       "      <td>57.0</td>\n",
       "    </tr>\n",
       "    <tr>\n",
       "      <th>6</th>\n",
       "      <td>455.0</td>\n",
       "      <td>76.259341</td>\n",
       "      <td>54.745333</td>\n",
       "      <td>1.0</td>\n",
       "      <td>24.50</td>\n",
       "      <td>75.0</td>\n",
       "      <td>118.00</td>\n",
       "      <td>213.0</td>\n",
       "    </tr>\n",
       "    <tr>\n",
       "      <th>7</th>\n",
       "      <td>455.0</td>\n",
       "      <td>213.116484</td>\n",
       "      <td>159.207044</td>\n",
       "      <td>1.0</td>\n",
       "      <td>63.00</td>\n",
       "      <td>208.0</td>\n",
       "      <td>334.00</td>\n",
       "      <td>596.0</td>\n",
       "    </tr>\n",
       "    <tr>\n",
       "      <th>8</th>\n",
       "      <td>455.0</td>\n",
       "      <td>362.769231</td>\n",
       "      <td>231.723065</td>\n",
       "      <td>8.0</td>\n",
       "      <td>133.50</td>\n",
       "      <td>392.0</td>\n",
       "      <td>563.50</td>\n",
       "      <td>839.0</td>\n",
       "    </tr>\n",
       "    <tr>\n",
       "      <th>9</th>\n",
       "      <td>455.0</td>\n",
       "      <td>221.780220</td>\n",
       "      <td>92.099209</td>\n",
       "      <td>14.0</td>\n",
       "      <td>161.00</td>\n",
       "      <td>217.0</td>\n",
       "      <td>294.50</td>\n",
       "      <td>414.0</td>\n",
       "    </tr>\n",
       "    <tr>\n",
       "      <th>10</th>\n",
       "      <td>455.0</td>\n",
       "      <td>175.092308</td>\n",
       "      <td>101.807629</td>\n",
       "      <td>17.0</td>\n",
       "      <td>106.00</td>\n",
       "      <td>149.0</td>\n",
       "      <td>218.50</td>\n",
       "      <td>539.0</td>\n",
       "    </tr>\n",
       "    <tr>\n",
       "      <th>11</th>\n",
       "      <td>455.0</td>\n",
       "      <td>210.674725</td>\n",
       "      <td>127.444294</td>\n",
       "      <td>10.0</td>\n",
       "      <td>123.00</td>\n",
       "      <td>183.0</td>\n",
       "      <td>265.50</td>\n",
       "      <td>647.0</td>\n",
       "    </tr>\n",
       "    <tr>\n",
       "      <th>12</th>\n",
       "      <td>456.0</td>\n",
       "      <td>256.508772</td>\n",
       "      <td>143.881880</td>\n",
       "      <td>3.0</td>\n",
       "      <td>157.00</td>\n",
       "      <td>234.5</td>\n",
       "      <td>332.00</td>\n",
       "      <td>757.0</td>\n",
       "    </tr>\n",
       "    <tr>\n",
       "      <th>13</th>\n",
       "      <td>456.0</td>\n",
       "      <td>257.787281</td>\n",
       "      <td>149.167185</td>\n",
       "      <td>11.0</td>\n",
       "      <td>154.00</td>\n",
       "      <td>226.5</td>\n",
       "      <td>329.00</td>\n",
       "      <td>729.0</td>\n",
       "    </tr>\n",
       "    <tr>\n",
       "      <th>14</th>\n",
       "      <td>456.0</td>\n",
       "      <td>243.442982</td>\n",
       "      <td>147.563199</td>\n",
       "      <td>12.0</td>\n",
       "      <td>144.00</td>\n",
       "      <td>212.0</td>\n",
       "      <td>311.25</td>\n",
       "      <td>730.0</td>\n",
       "    </tr>\n",
       "    <tr>\n",
       "      <th>15</th>\n",
       "      <td>456.0</td>\n",
       "      <td>254.298246</td>\n",
       "      <td>144.235670</td>\n",
       "      <td>7.0</td>\n",
       "      <td>154.00</td>\n",
       "      <td>232.0</td>\n",
       "      <td>331.00</td>\n",
       "      <td>724.0</td>\n",
       "    </tr>\n",
       "    <tr>\n",
       "      <th>16</th>\n",
       "      <td>456.0</td>\n",
       "      <td>316.372807</td>\n",
       "      <td>145.664786</td>\n",
       "      <td>11.0</td>\n",
       "      <td>211.75</td>\n",
       "      <td>309.5</td>\n",
       "      <td>421.00</td>\n",
       "      <td>783.0</td>\n",
       "    </tr>\n",
       "    <tr>\n",
       "      <th>17</th>\n",
       "      <td>456.0</td>\n",
       "      <td>468.765351</td>\n",
       "      <td>223.775485</td>\n",
       "      <td>15.0</td>\n",
       "      <td>277.00</td>\n",
       "      <td>480.5</td>\n",
       "      <td>608.50</td>\n",
       "      <td>970.0</td>\n",
       "    </tr>\n",
       "    <tr>\n",
       "      <th>18</th>\n",
       "      <td>456.0</td>\n",
       "      <td>430.859649</td>\n",
       "      <td>219.908138</td>\n",
       "      <td>23.0</td>\n",
       "      <td>240.75</td>\n",
       "      <td>422.5</td>\n",
       "      <td>564.00</td>\n",
       "      <td>977.0</td>\n",
       "    </tr>\n",
       "    <tr>\n",
       "      <th>19</th>\n",
       "      <td>456.0</td>\n",
       "      <td>315.278509</td>\n",
       "      <td>156.641732</td>\n",
       "      <td>11.0</td>\n",
       "      <td>190.00</td>\n",
       "      <td>312.5</td>\n",
       "      <td>416.00</td>\n",
       "      <td>743.0</td>\n",
       "    </tr>\n",
       "    <tr>\n",
       "      <th>20</th>\n",
       "      <td>456.0</td>\n",
       "      <td>228.517544</td>\n",
       "      <td>116.411565</td>\n",
       "      <td>11.0</td>\n",
       "      <td>136.75</td>\n",
       "      <td>224.0</td>\n",
       "      <td>302.00</td>\n",
       "      <td>551.0</td>\n",
       "    </tr>\n",
       "    <tr>\n",
       "      <th>21</th>\n",
       "      <td>456.0</td>\n",
       "      <td>173.370614</td>\n",
       "      <td>87.629319</td>\n",
       "      <td>6.0</td>\n",
       "      <td>103.50</td>\n",
       "      <td>171.5</td>\n",
       "      <td>230.00</td>\n",
       "      <td>584.0</td>\n",
       "    </tr>\n",
       "    <tr>\n",
       "      <th>22</th>\n",
       "      <td>456.0</td>\n",
       "      <td>133.576754</td>\n",
       "      <td>69.844495</td>\n",
       "      <td>9.0</td>\n",
       "      <td>80.00</td>\n",
       "      <td>129.0</td>\n",
       "      <td>175.00</td>\n",
       "      <td>502.0</td>\n",
       "    </tr>\n",
       "    <tr>\n",
       "      <th>23</th>\n",
       "      <td>456.0</td>\n",
       "      <td>89.508772</td>\n",
       "      <td>51.638004</td>\n",
       "      <td>4.0</td>\n",
       "      <td>52.75</td>\n",
       "      <td>80.0</td>\n",
       "      <td>123.00</td>\n",
       "      <td>256.0</td>\n",
       "    </tr>\n",
       "  </tbody>\n",
       "</table>\n",
       "</div>"
      ],
      "text/plain": [
       "      count        mean         std   min     25%    50%     75%    max\n",
       "hour                                                                   \n",
       "0     455.0   55.138462   43.620012   2.0   24.00   41.0   74.50  283.0\n",
       "1     454.0   33.859031   34.112105   1.0   11.00   19.0   46.00  168.0\n",
       "2     448.0   22.899554   26.110267   1.0    5.00   11.0   32.00  119.0\n",
       "3     433.0   11.757506   12.666442   1.0    3.00    6.0   15.00   66.0\n",
       "4     442.0    6.407240    4.217633   1.0    3.00    6.0    9.00   28.0\n",
       "5     452.0   19.767699   12.784293   1.0    8.00   19.0   29.00   57.0\n",
       "6     455.0   76.259341   54.745333   1.0   24.50   75.0  118.00  213.0\n",
       "7     455.0  213.116484  159.207044   1.0   63.00  208.0  334.00  596.0\n",
       "8     455.0  362.769231  231.723065   8.0  133.50  392.0  563.50  839.0\n",
       "9     455.0  221.780220   92.099209  14.0  161.00  217.0  294.50  414.0\n",
       "10    455.0  175.092308  101.807629  17.0  106.00  149.0  218.50  539.0\n",
       "11    455.0  210.674725  127.444294  10.0  123.00  183.0  265.50  647.0\n",
       "12    456.0  256.508772  143.881880   3.0  157.00  234.5  332.00  757.0\n",
       "13    456.0  257.787281  149.167185  11.0  154.00  226.5  329.00  729.0\n",
       "14    456.0  243.442982  147.563199  12.0  144.00  212.0  311.25  730.0\n",
       "15    456.0  254.298246  144.235670   7.0  154.00  232.0  331.00  724.0\n",
       "16    456.0  316.372807  145.664786  11.0  211.75  309.5  421.00  783.0\n",
       "17    456.0  468.765351  223.775485  15.0  277.00  480.5  608.50  970.0\n",
       "18    456.0  430.859649  219.908138  23.0  240.75  422.5  564.00  977.0\n",
       "19    456.0  315.278509  156.641732  11.0  190.00  312.5  416.00  743.0\n",
       "20    456.0  228.517544  116.411565  11.0  136.75  224.0  302.00  551.0\n",
       "21    456.0  173.370614   87.629319   6.0  103.50  171.5  230.00  584.0\n",
       "22    456.0  133.576754   69.844495   9.0   80.00  129.0  175.00  502.0\n",
       "23    456.0   89.508772   51.638004   4.0   52.75   80.0  123.00  256.0"
      ]
     },
     "execution_count": 5,
     "metadata": {},
     "output_type": "execute_result"
    }
   ],
   "source": [
    "# Celda 1.2\n",
    "bikes.groupby('hour').total.describe()"
   ]
  },
  {
   "cell_type": "markdown",
   "metadata": {},
   "source": [
    "Hour es una variable numérica que adopta 24 valores enteros correspondiente a un día entero. Examinando la media de renta de bicicletas, siendo muy intuitivo se encuentran 3 jornadas en el día:\n",
    "   1. Inicialmente de las 0 a las 6am se identifica un patron en la media de 2 dígitos, acompañado con un valor mínimo de 1 y máximo de 283 bicis a las 0 horas.\n",
    "   2. Luego de las 7am a las 10pm se mantienen los valores promedio con 3 dígitos. Cabe mencionar que dentro de este rango se presentan variaciones importantes que merecen analizarse posteriormente.\n",
    "   3. Finalmente a las 11pm vuelve a descender el valor promedio de renta a 2 dígitos con 89, mínimo de 4 y máximo de 256."
   ]
  },
  {
   "cell_type": "markdown",
   "metadata": {},
   "source": [
    "### Punto 2 - Análisis de gráficos\n",
    "\n",
    "Primero ejecute la celda 2.1 y asegúrese de comprender el código y el resultado. Luego, en cada una de celdas 2.2 y 2.3 escriba un código que genere una gráfica del número de bicicletas rentadas promedio para cada valor de la variable \"hour\" (hora) cuando la variable \"season\" es igual a 1 (invierno) e igual a 3 (verano), respectivamente. Analice y escriba sus hallazgos."
   ]
  },
  {
   "cell_type": "code",
   "execution_count": 6,
   "metadata": {
    "scrolled": false
   },
   "outputs": [
    {
     "data": {
      "text/plain": [
       "<AxesSubplot:xlabel='hour'>"
      ]
     },
     "execution_count": 6,
     "metadata": {},
     "output_type": "execute_result"
    },
    {
     "data": {
      "image/png": "[encoded data removed]",
      "text/plain": [
       "<Figure size 432x288 with 1 Axes>"
      ]
     },
     "metadata": {
      "needs_background": "light"
     },
     "output_type": "display_data"
    }
   ],
   "source": [
    "# Celda 2.1 - rentas promedio para cada valor de la variable \"hour\"\n",
    "bikes.groupby('hour').total.mean().plot()"
   ]
  },
  {
   "cell_type": "markdown",
   "metadata": {},
   "source": [
    "* Se identifican claramente 2 picos a las 8am y 5pm lo cual coincide típicamente con horarios laborales de ingreso y salida."
   ]
  },
  {
   "cell_type": "code",
   "execution_count": 7,
   "metadata": {
    "scrolled": true
   },
   "outputs": [
    {
     "data": {
      "text/plain": [
       "<AxesSubplot:title={'center':'Distribución de renta de bicicletas por hora del día en Invierno'}, xlabel='hour', ylabel='total'>"
      ]
     },
     "execution_count": 7,
     "metadata": {},
     "output_type": "execute_result"
    },
    {
     "data": {
      "image/png": "[encoded data removed]",
      "text/plain": [
       "<Figure size 432x288 with 1 Axes>"
      ]
     },
     "metadata": {},
     "output_type": "display_data"
    }
   ],
   "source": [
    "# Celda 2.2 - \"season\"=1 escriba su código y hallazgos \n",
    "\n",
    "%matplotlib inline\n",
    "bikes_3 = bikes[(bikes[\"season\"] == 1)]\n",
    "plt.style.use('seaborn-whitegrid')\n",
    "bikes_3.plot(kind='scatter', title = 'Distribución de renta de bicicletas por hora del día en Invierno', x='hour', y='total', label = \"Promedio total de renta de bicicletas\", color = \"b\", figsize = (6, 4), s=15, xlim=(0, 25), ylim=(0, 1000))"
   ]
  },
  {
   "cell_type": "markdown",
   "metadata": {},
   "source": [
    "* En Invierno, la distribución de renta de bicicletas a lo largo del día mantiene el patrón general de distribución visto en la exploración de los datos, donde la mayor frecuencia se presenta en horarios de 7 a 21hrs.\n",
    "Así mismo resalta que de manera generalizada, la mayor concentración de observaciones en todos los horarios del día se concentran por debajo de la media de 400. Destacan con mayor número de bicicletas rentadas dos horarios: 8hrs y 17 hrs, las cuales coinciden con entrada y salida de horarios de oficina, lo cual podría ser una hipótesis de principal driver de uso que sería interesante validar.  "
   ]
  },
  {
   "cell_type": "code",
   "execution_count": 8,
   "metadata": {
    "scrolled": true
   },
   "outputs": [
    {
     "data": {
      "text/plain": [
       "<AxesSubplot:title={'center':'Distribución de renta de bicicletas por hora del día en Verano'}, xlabel='hour', ylabel='total'>"
      ]
     },
     "execution_count": 8,
     "metadata": {},
     "output_type": "execute_result"
    },
    {
     "data": {
      "text/plain": [
       "<Figure size 1152x864 with 0 Axes>"
      ]
     },
     "metadata": {},
     "output_type": "display_data"
    },
    {
     "data": {
      "image/png": "[encoded data removed]",
      "text/plain": [
       "<Figure size 432x288 with 1 Axes>"
      ]
     },
     "metadata": {},
     "output_type": "display_data"
    }
   ],
   "source": [
    "# Celda 2.3 - \"season\"=3 escriba su código y hallazgos \n",
    "\n",
    "%matplotlib inline\n",
    "bikes_3 = bikes[(bikes[\"season\"] == 3)]\n",
    "plt.style.use('seaborn-whitegrid')\n",
    "fig = plt.figure(figsize=(16, 12))\n",
    "bikes_3.plot(kind='scatter', title = 'Distribución de renta de bicicletas por hora del día en Verano', x='hour', y='total', label = \"Promedio total de renta de bicicletas\", color = \"m\", figsize = (6, 4), s=15, xlim=(0, 25), ylim=(0, 1000))"
   ]
  },
  {
   "cell_type": "markdown",
   "metadata": {},
   "source": [
    "* Similar a la temporada de Invierno, en Verano se identifica un mayor uso de bicicletas en los horarios de la tarde. Especialmente los valores mínimos de renta son superiores a partir d elas 10hrs hasta las 20hrs. Así mismo se evidencia una mayor dispersión en los datos de manera generalizada. Especialmente resaltan los horarios de las 7, 8, 17 y 18 hrs como los horarios con mayor renta de bicicletas."
   ]
  },
  {
   "cell_type": "markdown",
   "metadata": {},
   "source": [
    "### Punto 3 - Regresión lineal\n",
    "En la celda 3 ajuste un modelo de regresión lineal a todo el conjunto de datos, utilizando \"total\" como variable de respuesta y \"season\" y \"hour\" como las únicas variables predictoras, teniendo en cuenta que la variable \"season\" es categórica. Luego, imprima los coeficientes e interprételos. ¿Cuáles son las limitaciones de la regresión lineal en este caso?"
   ]
  },
  {
   "cell_type": "code",
   "execution_count": 9,
   "metadata": {
    "scrolled": false
   },
   "outputs": [
    {
     "name": "stdout",
     "output_type": "stream",
     "text": [
      "lr_r2: 0.23145465514482966\n",
      "MSE Regresión Lineal: 25988.201662266863\n"
     ]
    }
   ],
   "source": [
    "# Celda 3\n",
    "# Transformamos variable \"Season\" a dummies\n",
    "bikes_2 = pd.get_dummies(bikes, columns = ['season'], drop_first= True)\n",
    "\n",
    "# Se seleccionan variables\n",
    "y = bikes_2['total']\n",
    "X = bikes_2[['season_2', 'season_3', 'season_4', 'hour']]\n",
    "\n",
    "# Se identifican observaciones con valores nulos\n",
    "bikes.isna().sum()\n",
    "\n",
    "# Se parte la muestra de test y train\n",
    "X_train, X_test, y_train, y_test = train_test_split(X,y,test_size=0.2)\n",
    "\n",
    "# Se implementa modelo de regresión lineal\n",
    "lr = linear_model.LinearRegression()\n",
    "lr.fit(X_train, y_train)\n",
    "lr_y_estimado = lr.predict(X_test)\n",
    "\n",
    "# Se calcula el R2\n",
    "lr_r2 = lr.score(X_test, y_test)\n",
    "print (\"lr_r2:\", str(lr_r2))\n",
    "\n",
    "# Se calcula el MSE\n",
    "lr_mse=np.average(np.square(lr_y_estimado-y_test))\n",
    "print('MSE Regresión Lineal:', str(lr_mse))"
   ]
  },
  {
   "cell_type": "markdown",
   "metadata": {},
   "source": [
    "* El desempeño del modelo de Regresión Lineal no es alto (R2 = 22% y MSE= 24799). Al comparar la distribución de los datos, notamos diferentes patrones de distribución durante el día. Es probable que la rigidez de este modelo no sea el más adecuado para este caso y además se necesiten considerar más variables con el fin de encontrar una mejor predicción."
   ]
  },
  {
   "cell_type": "markdown",
   "metadata": {},
   "source": [
    "### Punto 4 - Árbol de decisión manual\n",
    "En la celda 4 cree un árbol de decisiones para pronosticar la variable \"total\" iterando **manualmente** sobre las variables \"hour\" y  \"season\". El árbol debe tener al menos 6 nodos finales."
   ]
  },
  {
   "cell_type": "code",
   "execution_count": 10,
   "metadata": {},
   "outputs": [
    {
     "name": "stdout",
     "output_type": "stream",
     "text": [
      "giny: -73018.14777226778\n"
     ]
    },
    {
     "ename": "NameError",
     "evalue": "name 'gini_impurity' is not defined",
     "output_type": "error",
     "traceback": [
      "\u001b[1;31m---------------------------------------------------------------------------\u001b[0m",
      "\u001b[1;31mNameError\u001b[0m                                 Traceback (most recent call last)",
      "Input \u001b[1;32mIn [10]\u001b[0m, in \u001b[0;36m<cell line: 43>\u001b[1;34m()\u001b[0m\n\u001b[0;32m     39\u001b[0m                 best_split \u001b[38;5;241m=\u001b[39m [j, split, gain]\n\u001b[0;32m     41\u001b[0m     \u001b[38;5;28;01mreturn\u001b[39;00m best_split\n\u001b[1;32m---> 43\u001b[0m j, split, gain \u001b[38;5;241m=\u001b[39m \u001b[43mbest_split\u001b[49m\u001b[43m(\u001b[49m\u001b[43mX\u001b[49m\u001b[43m,\u001b[49m\u001b[43m \u001b[49m\u001b[43my\u001b[49m\u001b[43m,\u001b[49m\u001b[43m \u001b[49m\u001b[38;5;241;43m6\u001b[39;49m\u001b[43m)\u001b[49m\n\u001b[0;32m     44\u001b[0m \u001b[38;5;28mprint\u001b[39m (j, split, gain)\n\u001b[0;32m     46\u001b[0m \u001b[38;5;66;03m# Definición de la función gini_impurity para calular la ganancia de una variable predictora j dado el punto de corte k\u001b[39;00m\n",
      "Input \u001b[1;32mIn [10]\u001b[0m, in \u001b[0;36mbest_split\u001b[1;34m(X, y, num_pct)\u001b[0m\n\u001b[0;32m     34\u001b[0m \u001b[38;5;66;03m# Para cada partición\u001b[39;00m\n\u001b[0;32m     35\u001b[0m \u001b[38;5;28;01mfor\u001b[39;00m split \u001b[38;5;129;01min\u001b[39;00m splits:\n\u001b[1;32m---> 36\u001b[0m     gain \u001b[38;5;241m=\u001b[39m \u001b[43mgini_impurity\u001b[49m(X\u001b[38;5;241m.\u001b[39miloc[:, j], y, split)\n\u001b[0;32m     38\u001b[0m     \u001b[38;5;28;01mif\u001b[39;00m gain \u001b[38;5;241m>\u001b[39m best_split[\u001b[38;5;241m2\u001b[39m]:\n\u001b[0;32m     39\u001b[0m         best_split \u001b[38;5;241m=\u001b[39m [j, split, gain]\n",
      "\u001b[1;31mNameError\u001b[0m: name 'gini_impurity' is not defined"
     ]
    }
   ],
   "source": [
    "# Celda 4\n",
    "\n",
    "# Seguimos usando las variables dummies de season\n",
    "\n",
    "# Definición de parámetros y criterios de parada\n",
    "max_depth = 6\n",
    "num_pct = 15\n",
    "max_features = None\n",
    "min_gain=0.001\n",
    "\n",
    "# Definición de la función que calcula el gini index\n",
    "def gini(y):\n",
    "    if y.shape[0] == 0:\n",
    "        return 0\n",
    "    else:\n",
    "        return 1 - (y.mean()**2 + (1 - y.mean())**2)\n",
    "    \n",
    "print (\"giny:\", str(gini(y)))\n",
    "\n",
    "\n",
    "# Definición de la función best_split para calcular cuál es la mejor variable y punto de corte para hacer la bifurcación del árbol\n",
    "def best_split(X, y, num_pct=15):\n",
    "    \n",
    "    features = range(X.shape[1])\n",
    "    \n",
    "    best_split = [0, 0, 0]  # j, split, gain\n",
    "    \n",
    "    # Para todas las varibles \n",
    "    for j in features:\n",
    "        \n",
    "        splits = np.percentile(X.iloc[:, j], np.arange(0, 100, 100.0 / (num_pct+1)).tolist())\n",
    "        splits = np.unique(splits)[1:]\n",
    "        \n",
    "        # Para cada partición\n",
    "        for split in splits:\n",
    "            gain = gini_impurity(X.iloc[:, j], y, split)\n",
    "                        \n",
    "            if gain > best_split[2]:\n",
    "                best_split = [j, split, gain]\n",
    "    \n",
    "    return best_split\n",
    "\n",
    "j, split, gain = best_split(X, y, 6)\n",
    "print (j, split, gain)\n",
    "\n",
    "# Definición de la función gini_impurity para calular la ganancia de una variable predictora j dado el punto de corte k\n",
    "\n",
    "def gini_impurity(X_col, y, split):\n",
    "    \n",
    "    filter_l = X_col < split\n",
    "    y_l = y.loc[filter_l]\n",
    "    y_r = y.loc[~filter_l]\n",
    "    \n",
    "    n_l = y_l.shape[0]\n",
    "    n_r = y_r.shape[0]\n",
    "    \n",
    "    gini_y = gini(y)\n",
    "    gini_l = gini(y_l)\n",
    "    gini_r = gini(y_r)\n",
    "    \n",
    "    gini_impurity_ = gini_y - (n_l / (n_l + n_r) * gini_l + n_r / (n_l + n_r) * gini_r)\n",
    "    \n",
    "    return gini_impurity_\n",
    "\n",
    "# Obtención de la variable 'j', su punto de corte 'split' y su ganancia 'gain'\n",
    "j, split, gain = best_split(X, y, 5)\n",
    "print(\"variable: \", str(j), \", split: \", str(split), \", ganancia: \", str(gain))\n",
    "\n",
    "\n",
    "# División de las observaciones usando la mejor variable 'j' y su punto de corte 'split'\n",
    "filter_l = X.iloc[:, j] < split\n",
    "\n",
    "y_l = y.loc[filter_l]\n",
    "y_r = y.loc[~filter_l]\n",
    "print (\"y_l: \", str(y_l), \", y_r: \", str(y_r))\n",
    "\n",
    "# Definición de la función tree_grow para hacer un crecimiento recursivo del árbol\n",
    "def tree_grow(X, y, level=0, min_gain=0.001, max_depth=None, num_pct=10):\n",
    "    \n",
    "    # Si solo es una observación\n",
    "    if X.shape[0] == 1:\n",
    "        tree = dict(y_pred=y.iloc[:1].values[0], y_prob=0.5, level=level, split=-1, n_samples=1, gain=0)\n",
    "        return tree\n",
    "    \n",
    "    # Calcular la mejor división\n",
    "    j, split, gain = best_split(X, y, num_pct)\n",
    "    \n",
    "    # Guardar el árbol y estimar la predicción\n",
    "    y_pred = int(y.mean() >= 0.5) \n",
    "    y_prob = (y.sum() + 1.0) / (y.shape[0] + 2.0)  # Corrección Laplace \n",
    "    \n",
    "    tree = dict(y_pred=y_pred, y_prob=y_prob, level=level, split=-1, n_samples=X.shape[0], gain=gain)\n",
    "    # Revisar el criterio de parada \n",
    "    if gain < min_gain:\n",
    "        return tree\n",
    "    if max_depth is not None:\n",
    "        if level >= max_depth:\n",
    "            return tree   \n",
    "    \n",
    "    # Continuar creando la partición\n",
    "    filter_l = X.iloc[:, j] < split\n",
    "    X_l, y_l = X.loc[filter_l], y.loc[filter_l]\n",
    "    X_r, y_r = X.loc[~filter_l], y.loc[~filter_l]\n",
    "    tree['split'] = [j, split]\n",
    "\n",
    "    # Siguiente iteración para cada partición\n",
    "    \n",
    "    tree['sl'] = tree_grow(X_l, y_l, level + 1, min_gain=min_gain, max_depth=max_depth, num_pct=num_pct)\n",
    "    tree['sr'] = tree_grow(X_r, y_r, level + 1, min_gain=min_gain, max_depth=max_depth, num_pct=num_pct)\n",
    "    \n",
    "    return tree\n",
    "\n",
    "# Aplicación de la función tree_grow\n",
    "tree_grow(X, y, level=0, min_gain=0.001, max_depth=6, num_pct=10)\n",
    "\n",
    "tree = tree_grow(X, y, level=0, min_gain=0.001, max_depth=3, num_pct=10)\n",
    "tree\n",
    "\n",
    "# Definición de la función tree_predict para hacer predicciones según las variables 'X' y el árbol 'tree'\n",
    "\n",
    "def tree_predict(X, tree, proba=False):\n",
    "    \n",
    "    predicted = np.ones(X.shape[0])\n",
    "\n",
    "    # Revisar si es el nodo final\n",
    "    if tree['split'] == -1:\n",
    "        if not proba:\n",
    "            predicted = predicted * tree['y_pred']\n",
    "        else:\n",
    "            predicted = predicted * tree['y_prob']\n",
    "            \n",
    "    else:\n",
    "        \n",
    "        j, split = tree['split']\n",
    "        filter_l = (X.iloc[:, j] < split)\n",
    "        X_l = X.loc[filter_l]\n",
    "        X_r = X.loc[~filter_l]\n",
    "\n",
    "        if X_l.shape[0] == 0:  # Si el nodo izquierdo está vacio solo continua con el derecho \n",
    "            predicted[~filter_l] = tree_predict(X_r, tree['sr'], proba)\n",
    "        elif X_r.shape[0] == 0:  #  Si el nodo derecho está vacio solo continua con el izquierdo\n",
    "            predicted[filter_l] = tree_predict(X_l, tree['sl'], proba)\n",
    "        else:\n",
    "            predicted[filter_l] = tree_predict(X_l, tree['sl'], proba)\n",
    "            predicted[~filter_l] = tree_predict(X_r, tree['sr'], proba)\n",
    "\n",
    "    return predicted\n",
    "\n",
    "# Ejecución de función tree_predict\n",
    "tree_predict(X, tree)"
   ]
  },
  {
   "cell_type": "markdown",
   "metadata": {},
   "source": [
    "### Punto 5 - Árbol de decisión con librería\n",
    "En la celda 5 entrene un árbol de decisiones con la **librería sklearn**, usando las variables predictoras \"season\" y \"hour\" y calibre los parámetros que considere conveniente para obtener un mejor desempeño. Recuerde dividir los datos en conjuntos de entrenamiento y validación para esto. Comente el desempeño del modelo con alguna métrica de desempeño de modelos de regresión y compare desempeño con el modelo del punto 3."
   ]
  },
  {
   "cell_type": "code",
   "execution_count": 11,
   "metadata": {
    "scrolled": true
   },
   "outputs": [
    {
     "data": {
      "text/html": [
       "<style>#sk-container-id-1 {color: black;background-color: white;}#sk-container-id-1 pre{padding: 0;}#sk-container-id-1 div.sk-toggleable {background-color: white;}#sk-container-id-1 label.sk-toggleable__label {cursor: pointer;display: block;width: 100%;margin-bottom: 0;padding: 0.3em;box-sizing: border-box;text-align: center;}#sk-container-id-1 label.sk-toggleable__label-arrow:before {content: \"▸\";float: left;margin-right: 0.25em;color: #696969;}#sk-container-id-1 label.sk-toggleable__label-arrow:hover:before {color: black;}#sk-container-id-1 div.sk-estimator:hover label.sk-toggleable__label-arrow:before {color: black;}#sk-container-id-1 div.sk-toggleable__content {max-height: 0;max-width: 0;overflow: hidden;text-align: left;background-color: #f0f8ff;}#sk-container-id-1 div.sk-toggleable__content pre {margin: 0.2em;color: black;border-radius: 0.25em;background-color: #f0f8ff;}#sk-container-id-1 input.sk-toggleable__control:checked~div.sk-toggleable__content {max-height: 200px;max-width: 100%;overflow: auto;}#sk-container-id-1 input.sk-toggleable__control:checked~label.sk-toggleable__label-arrow:before {content: \"▾\";}#sk-container-id-1 div.sk-estimator input.sk-toggleable__control:checked~label.sk-toggleable__label {background-color: #d4ebff;}#sk-container-id-1 div.sk-label input.sk-toggleable__control:checked~label.sk-toggleable__label {background-color: #d4ebff;}#sk-container-id-1 input.sk-hidden--visually {border: 0;clip: rect(1px 1px 1px 1px);clip: rect(1px, 1px, 1px, 1px);height: 1px;margin: -1px;overflow: hidden;padding: 0;position: absolute;width: 1px;}#sk-container-id-1 div.sk-estimator {font-family: monospace;background-color: #f0f8ff;border: 1px dotted black;border-radius: 0.25em;box-sizing: border-box;margin-bottom: 0.5em;}#sk-container-id-1 div.sk-estimator:hover {background-color: #d4ebff;}#sk-container-id-1 div.sk-parallel-item::after {content: \"\";width: 100%;border-bottom: 1px solid gray;flex-grow: 1;}#sk-container-id-1 div.sk-label:hover label.sk-toggleable__label {background-color: #d4ebff;}#sk-container-id-1 div.sk-serial::before {content: \"\";position: absolute;border-left: 1px solid gray;box-sizing: border-box;top: 0;bottom: 0;left: 50%;z-index: 0;}#sk-container-id-1 div.sk-serial {display: flex;flex-direction: column;align-items: center;background-color: white;padding-right: 0.2em;padding-left: 0.2em;position: relative;}#sk-container-id-1 div.sk-item {position: relative;z-index: 1;}#sk-container-id-1 div.sk-parallel {display: flex;align-items: stretch;justify-content: center;background-color: white;position: relative;}#sk-container-id-1 div.sk-item::before, #sk-container-id-1 div.sk-parallel-item::before {content: \"\";position: absolute;border-left: 1px solid gray;box-sizing: border-box;top: 0;bottom: 0;left: 50%;z-index: -1;}#sk-container-id-1 div.sk-parallel-item {display: flex;flex-direction: column;z-index: 1;position: relative;background-color: white;}#sk-container-id-1 div.sk-parallel-item:first-child::after {align-self: flex-end;width: 50%;}#sk-container-id-1 div.sk-parallel-item:last-child::after {align-self: flex-start;width: 50%;}#sk-container-id-1 div.sk-parallel-item:only-child::after {width: 0;}#sk-container-id-1 div.sk-dashed-wrapped {border: 1px dashed gray;margin: 0 0.4em 0.5em 0.4em;box-sizing: border-box;padding-bottom: 0.4em;background-color: white;}#sk-container-id-1 div.sk-label label {font-family: monospace;font-weight: bold;display: inline-block;line-height: 1.2em;}#sk-container-id-1 div.sk-label-container {text-align: center;}#sk-container-id-1 div.sk-container {/* jupyter's `normalize.less` sets `[hidden] { display: none; }` but bootstrap.min.css set `[hidden] { display: none !important; }` so we also need the `!important` here to be able to override the default hidden behavior on the sphinx rendered scikit-learn.org. See: https://github.com/scikit-learn/scikit-learn/issues/21755 */display: inline-block !important;position: relative;}#sk-container-id-1 div.sk-text-repr-fallback {display: none;}</style><div id=\"sk-container-id-1\" class=\"sk-top-container\"><div class=\"sk-text-repr-fallback\"><pre>DecisionTreeRegressor(max_depth=9, random_state=1)</pre><b>In a Jupyter environment, please rerun this cell to show the HTML representation or trust the notebook. <br />On GitHub, the HTML representation is unable to render, please try loading this page with nbviewer.org.</b></div><div class=\"sk-container\" hidden><div class=\"sk-item\"><div class=\"sk-estimator sk-toggleable\"><input class=\"sk-toggleable__control sk-hidden--visually\" id=\"sk-estimator-id-1\" type=\"checkbox\" checked><label for=\"sk-estimator-id-1\" class=\"sk-toggleable__label sk-toggleable__label-arrow\">DecisionTreeRegressor</label><div class=\"sk-toggleable__content\"><pre>DecisionTreeRegressor(max_depth=9, random_state=1)</pre></div></div></div></div></div>"
      ],
      "text/plain": [
       "DecisionTreeRegressor(max_depth=9, random_state=1)"
      ]
     },
     "execution_count": 11,
     "metadata": {},
     "output_type": "execute_result"
    },
    {
     "data": {
      "image/png": "[encoded data removed]",
      "text/plain": [
       "<Figure size 432x288 with 1 Axes>"
      ]
     },
     "metadata": {},
     "output_type": "display_data"
    }
   ],
   "source": [
    "# Celda 5\n",
    "\n",
    "# Sigo usando Bikes_2 con las variables dummies de Season.\n",
    "# Se parte la muestra de test y train\n",
    "X_train, X_test, y_train, y_test = train_test_split(X,y,test_size=0.3)\n",
    "\n",
    "# Definición de parámetros y criterios de parada\n",
    "max_depth = 8\n",
    "num_pct = 20\n",
    "max_features = None\n",
    "min_gain=0.001\n",
    "\n",
    "# Lista de valores para calibrar el criterio de parada de máxima profundidad (max_depth)\n",
    "max_depth_range = range(1,10)\n",
    "\n",
    "# Lista para guardar los valores del RMSE para cada valor de máxima profundidad (max_depth)\n",
    "r2_scores = []\n",
    "mse_scores = []\n",
    "\n",
    "# Importación de modelos de sklearn \n",
    "from sklearn.model_selection import cross_val_score\n",
    "from sklearn.tree import DecisionTreeRegressor\n",
    "\n",
    "# Loop para obtener el desempeño del modelo de acuerdo con la máxima profundidad\n",
    "for depth in max_depth_range:\n",
    "    # Definición del árbol de decisión usando DecisionTreeRegressor de la libreria sklearn\n",
    "    clf = DecisionTreeRegressor(max_depth=depth, random_state=1)\n",
    "    r2_scores.append(cross_val_score(clf, X, y, cv=15, scoring='r2').mean())\n",
    "    mse_scores.append(cross_val_score(clf, X, y, cv=15, scoring='neg_mean_squared_error').mean())\n",
    "    \n",
    "# Gráfica max_depth versus R2\n",
    "import matplotlib.pyplot as plt\n",
    "plt.plot(max_depth_range, r2_scores)\n",
    "plt.xlabel('max_depth')\n",
    "plt.ylabel('r2')\n",
    "\n",
    "# Mejor accuracy (desempeño del modelo) y su correspondiente max_depth\n",
    "sorted(zip(r2_scores, max_depth_range))[::-1][0]\n",
    "\n",
    "# max_depth=9 fue el mejor, se ajusta un árbol usando este valor \n",
    "clf = DecisionTreeRegressor(max_depth=9, random_state=1)\n",
    "clf.fit(X, y)"
   ]
  },
  {
   "cell_type": "code",
   "execution_count": 12,
   "metadata": {},
   "outputs": [
    {
     "name": "stdout",
     "output_type": "stream",
     "text": [
      "dt_mse:  (-15407.415560630445, 9)\n"
     ]
    }
   ],
   "source": [
    "# mse\n",
    "print(\"dt_mse: \", str(sorted(zip(mse_scores, max_depth_range))[::-1][0]))"
   ]
  },
  {
   "cell_type": "code",
   "execution_count": 13,
   "metadata": {},
   "outputs": [
    {
     "data": {
      "text/plain": [
       "count    10.000000\n",
       "mean      0.047027\n",
       "std       0.990710\n",
       "min      -2.635641\n",
       "25%       0.075613\n",
       "50%       0.440603\n",
       "75%       0.537497\n",
       "max       0.648350\n",
       "dtype: float64"
      ]
     },
     "execution_count": 13,
     "metadata": {},
     "output_type": "execute_result"
    }
   ],
   "source": [
    "# Impresión de resultados de desemepeño del árbol de decisión\n",
    "pd.Series(cross_val_score(clf, X, y, cv=10)).describe()"
   ]
  },
  {
   "cell_type": "markdown",
   "metadata": {},
   "source": [
    "* El árbol de decisión obtuvo un R2 de 44% y MSE 15407, a pesar de que ambos valores mejoran con respecto al desempeño de la Regresión Lineal (R2 = 22% y MSE = 24799) aún el modelo no tiene un poder predictivo destacable. Es importante mencionar que sólo se están usando 2 variables, donde una de ellas (Season) se transformó a binaria lo cual beneficia el desempeño del árbol de regresión.\n",
    "* Seguramente al considerar más variables estaremos obteniendo mejores resultados"
   ]
  },
  {
   "cell_type": "markdown",
   "metadata": {},
   "source": [
    "## Parte B - Métodos de ensamblajes\n",
    "En esta parte del taller se usará el conjunto de datos de Popularidad de Noticias Online. El objetivo es predecir si la notica es popular o no, la popularidad está dada por la cantidad de reacciones en redes sociales. Para más detalles puede visitar el siguiente enlace: [datos](https://archive.ics.uci.edu/ml/datasets/online+news+popularity)."
   ]
  },
  {
   "cell_type": "markdown",
   "metadata": {},
   "source": [
    "### Datos popularidad de noticias"
   ]
  },
  {
   "cell_type": "code",
   "execution_count": 53,
   "metadata": {},
   "outputs": [],
   "source": [
    "# Lectura de la información de archivo .csv\n",
    "df = pd.read_csv('https://raw.githubusercontent.com/davidzarruk/MIAD_ML_NLP_2023/main/datasets/mashable.csv', index_col=0)\n",
    "#df.describe(include='all')"
   ]
  },
  {
   "cell_type": "code",
   "execution_count": 54,
   "metadata": {},
   "outputs": [
    {
     "data": {
      "text/plain": [
       "0.5"
      ]
     },
     "execution_count": 54,
     "metadata": {},
     "output_type": "execute_result"
    }
   ],
   "source": [
    "# Definición variable de interes y variables predictoras\n",
    "X = df.drop(['url', 'Popular'], axis=1)\n",
    "y = df['Popular']\n",
    "\n",
    "# Encontramos que los datos se encuentran balanceados respecto a la variable de respuesta\n",
    "y.mean()"
   ]
  },
  {
   "cell_type": "markdown",
   "metadata": {},
   "source": [
    "### Punto 6 - Árbol de decisión y regresión logística\n",
    "En la celda 6 construya un árbol de decisión y una regresión logística. Para el árbol calibre al menos un parámetro y evalúe el desempeño de cada modelo usando las métricas de Accuracy y F1-Score."
   ]
  },
  {
   "cell_type": "code",
   "execution_count": 48,
   "metadata": {},
   "outputs": [
    {
     "name": "stdout",
     "output_type": "stream",
     "text": [
      "Desempeño: Regresión Logística\n",
      "df_lr_r2:  0.6166666666666667\n",
      "df_lr_mse:  0.38333333333333336\n",
      "df_lr_f1=  0.6134453781512605\n"
     ]
    }
   ],
   "source": [
    "# Celda 6\n",
    "\n",
    "# Construcción Reg. Logística\n",
    "# Se identifican observaciones con valores nulos\n",
    "df.isna().sum()\n",
    "\n",
    "# Se parte la muestra de test y train\n",
    "X_train, X_test, y_train, y_test = train_test_split(X,y,test_size=0.2)\n",
    "\n",
    "# Se implementa modelo de regresión lineal\n",
    "df_lr = linear_model.LogisticRegression()\n",
    "df_lr.fit(X_train, y_train)\n",
    "df_lr_y_estimado = df_lr.predict(X_test)\n",
    "\n",
    "print (\"Desempeño: Regresión Logística\")\n",
    "# Se calcula el R2\n",
    "df_lr_r2 = df_lr.score(X_test, y_test)\n",
    "print (\"df_lr_r2: \", str(df_lr_r2))\n",
    "\n",
    "# Se calcula el MSE\n",
    "df_lr_mse=np.average(np.square(df_lr_y_estimado-y_test))\n",
    "print('df_lr_mse: ', str(df_lr_mse))\n",
    "\n",
    "#F1 Score\n",
    "from sklearn import metrics\n",
    "df_lr_f1 = metrics.f1_score(df_lr_y_estimado, y_test)\n",
    "print(\"df_lr_f1= \", str(df_lr_f1))"
   ]
  },
  {
   "cell_type": "code",
   "execution_count": 52,
   "metadata": {},
   "outputs": [
    {
     "name": "stdout",
     "output_type": "stream",
     "text": [
      "Desempeño: Árbol de decisión\n",
      "dt_r2:  0.6258333333333334\n",
      "dt_mse:  0.37416666666666665\n",
      "dt_f1:  0.63\n",
      "- - - - - - - - - - - - - - - - - - - - - -\n",
      "Notamos que ambos modelos tienen un desempeño muy similar donde el árbol supera ligeramente a la regresión logística principalmente en el accuracy, menor mse y mayor f1.\n"
     ]
    }
   ],
   "source": [
    "print (\"Desempeño: Árbol de decisión\")\n",
    "# Se parte la muestra de test y train\n",
    "X_train, X_test, y_train, y_test = train_test_split(X,y,test_size=0.2)\n",
    "\n",
    "# Construcción Árbol de decisión\n",
    "# Definición de parámetros y criterios de parada\n",
    "max_depth = None\n",
    "num_pct = 10\n",
    "max_features = None\n",
    "min_gain=0.001\n",
    "\n",
    "# Lista de valores para calibrar el criterio de parada de máxima profundidad (max_depth)\n",
    "max_depth_range = range(1,10)\n",
    "\n",
    "# Importación de modelos de sklearn\n",
    "\n",
    "# Se crea modelo de arbol de clasificación\n",
    "dt = DecisionTreeClassifier(max_depth=depth, random_state=1)\n",
    "dt.fit(X_train, y_train)\n",
    "dt_estimado = dt.predict(X_test)\n",
    "\n",
    "# Se calcula el R2\n",
    "dt_r2 = dt.score(X_test, y_test)\n",
    "print (\"dt_r2: \", str(dt_r2))\n",
    "\n",
    "# Se calcula el MSE\n",
    "dt_mse=np.average(np.square(dt_estimado-y_test))\n",
    "print('dt_mse: ', str(dt_mse))\n",
    "\n",
    "#F1 Score\n",
    "print(f'dt_f1:  {f1_score(y_test, dt_estimado):.2f}')\n",
    "print(\"- - - - - - - - - - - - - - - - - - - - - -\")\n",
    "print (\"Notamos que ambos modelos tienen un desempeño muy similar donde el árbol supera ligeramente a la regresión logística principalmente en el accuracy, menor mse y mayor f1.\")"
   ]
  },
  {
   "cell_type": "markdown",
   "metadata": {},
   "source": [
    "### Punto 7 - Votación Mayoritaria\n",
    "En la celda 7 elabore un esamble con la metodología de **Votación mayoritaria** compuesto por 300 muestras bagged para cada uno de los siguientes escenarios:\n",
    "\n",
    "-100 árboles de decisión donde max_depth tome un valor de su elección\\\n",
    "-100 árboles de decisión donde min_samples_leaf tome un valor de su elección\\\n",
    "-100 regresiones logísticas\n",
    "\n",
    "Evalúe cada uno de los tres modelos de manera independiente utilizando las métricas de Accuracy y F1-Score, luego evalúe el ensamble de modelos y compare los resultados. "
   ]
  },
  {
   "cell_type": "code",
   "execution_count": 56,
   "metadata": {},
   "outputs": [
    {
     "name": "stdout",
     "output_type": "stream",
     "text": [
      "m1_f1_VM=  0.6538782318598833\n",
      "m1_accuracy_VM=  0.6541666666666667\n",
      "m2_f1_VM=  0.6622185154295246\n",
      "m2_accuracy_VM=  0.6625\n",
      "m3_f1_VM=  0.6182432432432433\n",
      "m3_accuracy_VM=  0.6233333333333333\n"
     ]
    }
   ],
   "source": [
    "# Celda 7\n",
    "accuracy = []\n",
    "f1 = []\n",
    "\n",
    "#100 árboles de decisión donde max_depth tome un valor de su elección\n",
    "\n",
    "# Separación de variables predictoras (X) y variable de interés (y)\n",
    "\n",
    "## Creación de 100 muestras de bootstrap\n",
    "n_estimators = 100\n",
    "np.random.seed(88)\n",
    "\n",
    "n_samples = X_train.shape[0]\n",
    "samples = [np.random.choice(a=n_samples, size=n_samples, replace=True) for _ in range(n_estimators)]\n",
    "\n",
    "## Entrenamiento de 100 modelos con las 100 muestras boostrap\n",
    "\n",
    "np.random.seed(88) \n",
    "seeds = np.random.randint(1, 9999, size=n_estimators)\n",
    "\n",
    "trees = {}\n",
    "for i in range(n_estimators):\n",
    "    trees[i] = DecisionTreeClassifier(max_features=\"sqrt\", max_depth=30, random_state=seeds[i])\n",
    "    trees[i].fit(X_train.iloc[samples[i]], y_train.iloc[samples[i]])\n",
    "    \n",
    "## Predicción para los datos del set de test con cada modelo\n",
    "y_pred_df = pd.DataFrame(index=X_test.index, columns=list(range(n_estimators)))\n",
    "for i in range(n_estimators):\n",
    "    y_pred_df.iloc[:, i] = trees[i].predict(X_test)\n",
    "\n",
    "y_pred_df.head()\n",
    "\n",
    "## Votación mayoritaria\n",
    "y_pred = (y_pred_df.sum(axis=1) >= (n_estimators / 2)).astype(np.int)\n",
    "\n",
    "## Desempeño - F1, Accuracy\n",
    "from sklearn import metrics\n",
    "m1_f1_VM = metrics.f1_score(y_pred, y_test)\n",
    "f1.append(m1_f1_VM)\n",
    "print(\"m1_f1_VM= \", str(m1_f1_VM))\n",
    "m1_accuracy_VM = metrics.accuracy_score(y_pred, y_test)\n",
    "accuracy.append(m1_accuracy_VM)\n",
    "print(\"m1_accuracy_VM= \", str(m1_accuracy_VM))\n",
    "\n",
    "# 100 árboles de decisión donde min_samples_leaf tome un valor de su elección\n",
    "\n",
    "n_estimators = 100\n",
    "np.random.seed(88)\n",
    "\n",
    "n_samples = X_train.shape[0]\n",
    "samples = [np.random.choice(a=n_samples, size=n_samples, replace=True) for _ in range(n_estimators)]\n",
    "\n",
    "## Entrenamiento de 100 modelos con las 100 muestras boostrap\n",
    "\n",
    "np.random.seed(88) \n",
    "seeds = np.random.randint(1, 9999, size=n_estimators)\n",
    "\n",
    "trees = {}\n",
    "for i in range(n_estimators):\n",
    "    trees[i] = DecisionTreeClassifier(max_features=\"sqrt\", max_depth=30, random_state=seeds[i], min_samples_leaf=3)\n",
    "    trees[i].fit(X_train.iloc[samples[i]], y_train.iloc[samples[i]])\n",
    "    \n",
    "## Predicción para los datos del set de test con cada modelo\n",
    "y_pred_df = pd.DataFrame(index=X_test.index, columns=list(range(n_estimators)))\n",
    "for i in range(n_estimators):\n",
    "    y_pred_df.iloc[:, i] = trees[i].predict(X_test)\n",
    "\n",
    "y_pred_df.head()\n",
    "\n",
    "## Votación mayoritaria\n",
    "y_pred = (y_pred_df.sum(axis=1) >= (n_estimators / 2)).astype(np.int)\n",
    "\n",
    "## Desempeño - F1, Accuracy\n",
    "from sklearn import metrics\n",
    "m2_f1_VM = metrics.f1_score(y_pred, y_test)\n",
    "f1.append(m2_f1_VM)\n",
    "print(\"m2_f1_VM= \", str(m2_f1_VM))\n",
    "m2_accuracy_VM = metrics.accuracy_score(y_pred, y_test)\n",
    "accuracy.append(m2_accuracy_VM)\n",
    "print(\"m2_accuracy_VM= \", str(m2_accuracy_VM))\n",
    "\n",
    "#100 regresiones logísticas\n",
    "\n",
    "np.random.seed(88) \n",
    "seeds = np.random.randint(1, 9999, size=n_estimators)\n",
    "\n",
    "trees = {}\n",
    "for i in range(n_estimators):\n",
    "    trees[i] = linear_model.LogisticRegression()\n",
    "    trees[i].fit(X_train.iloc[samples[i]], y_train.iloc[samples[i]])\n",
    "   \n",
    "## Predicción para los datos del set de test con cada modelo\n",
    "y_pred_df = pd.DataFrame(index=X_test.index, columns=list(range(n_estimators)))\n",
    "for i in range(n_estimators):\n",
    "    y_pred_df.iloc[:, i] = trees[i].predict(X_test)\n",
    "\n",
    "y_pred_df.head()\n",
    "\n",
    "## Votación mayoritaria\n",
    "y_pred = (y_pred_df.sum(axis=1) >= (n_estimators / 2)).astype(np.int)\n",
    "\n",
    "## Desempeño - F1, Accuracy\n",
    "from sklearn import metrics\n",
    "m3_f1_VM = metrics.f1_score(y_pred, y_test)\n",
    "f1.append(m3_f1_VM)\n",
    "print(\"m3_f1_VM= \", str(m3_f1_VM))\n",
    "m3_accuracy_VM = metrics.accuracy_score(y_pred, y_test)\n",
    "accuracy.append(m3_accuracy_VM)\n",
    "print(\"m3_accuracy_VM= \", str(m3_accuracy_VM))"
   ]
  },
  {
   "cell_type": "markdown",
   "metadata": {},
   "source": [
    "### Punto 8 - Votación Ponderada\n",
    "En la celda 8 elabore un ensamble con la metodología de **Votación ponderada** compuesto por 300 muestras bagged para los mismos tres escenarios del punto 7. Evalúe los modelos utilizando las métricas de Accuracy y F1-Score"
   ]
  },
  {
   "cell_type": "code",
   "execution_count": 57,
   "metadata": {},
   "outputs": [
    {
     "name": "stdout",
     "output_type": "stream",
     "text": [
      "m1_f1_VP 0.6572379367720466\n",
      "m1_accuracy_VP 0.6572379367720466\n",
      "m2_f1_VP 0.6432246998284734\n",
      "m2_accuracy_VP 0.6432246998284734\n",
      "m3_f1_VP 0.6181202370872142\n",
      "m3_accuracy_VP 0.6181202370872142\n"
     ]
    }
   ],
   "source": [
    "# Celda 8\n",
    "# 100 árboles de decisión donde max_depth tome un valor de su elección\n",
    "## Definición del modelo BaggingClassifier de la libreria sklearn\n",
    "clf = BaggingClassifier(base_estimator=DecisionTreeClassifier(max_depth=30), n_estimators=100, bootstrap=True,\n",
    "                        random_state=55, n_jobs=-1, oob_score=True)\n",
    "\n",
    "## Predicción y desempeño al hacer votación mayoritaria\n",
    "clf.fit(X_train, y_train)\n",
    "y_pred = clf.predict(X_test)\n",
    "metrics.f1_score(y_pred, y_test), metrics.accuracy_score(y_pred, y_test)\n",
    "\n",
    "## Obtención de los pesos alpha de cada modelo de acuerdo al error OOB\n",
    "errors = np.zeros(clf.n_estimators)\n",
    "y_pred_all_ = np.zeros((X_test.shape[0], clf.n_estimators))\n",
    "\n",
    "for i in range(clf.n_estimators):\n",
    "    oob_sample = ~clf.estimators_samples_[i]\n",
    "    y_pred_ = clf.estimators_[i].predict(X_train.values[oob_sample])\n",
    "    errors[i] = metrics.accuracy_score(y_pred_, y_train.values[oob_sample])\n",
    "    y_pred_all_[:, i] = clf.estimators_[i].predict(X_test)\n",
    "    \n",
    "alpha = (1 - errors) / (1 - errors).sum()\n",
    "y_pred = (np.sum(y_pred_all_ * alpha, axis=1) >= 0.5).astype(np.int)\n",
    "\n",
    "## Desempeño al hacer votación ponderada\n",
    "from sklearn import metrics\n",
    "m1_f1_VP = metrics.f1_score(y_pred, y_test)\n",
    "f1.append(m1_f1_VP)\n",
    "print (\"m1_f1_VP\", str(m1_f1_VP))\n",
    "m1_accuracy_VP = metrics.accuracy_score(y_pred, y_test)\n",
    "accuracy.append(m1_accuracy_VP)\n",
    "print (\"m1_accuracy_VP\", str(m1_f1_VP))\n",
    "\n",
    "# 100 árboles de decisión donde min_samples_leaf tome un valor de su elección\n",
    "## Definición del modelo BaggingClassifier de la libreria sklearn\n",
    "clf = BaggingClassifier(base_estimator=DecisionTreeClassifier(max_depth=30, min_samples_leaf=3), n_estimators=100, bootstrap=True,\n",
    "                        random_state=55, n_jobs=-1, oob_score=True)\n",
    "\n",
    "## Predicción y desempeño al hacer votación mayoritaria\n",
    "clf.fit(X_train, y_train)\n",
    "y_pred = clf.predict(X_test)\n",
    "metrics.f1_score(y_pred, y_test), metrics.accuracy_score(y_pred, y_test)\n",
    "\n",
    "## Obtención de los pesos alpha de cada modelo de acuerdo al error OOB\n",
    "errors = np.zeros(clf.n_estimators)\n",
    "y_pred_all_ = np.zeros((X_test.shape[0], clf.n_estimators))\n",
    "\n",
    "for i in range(clf.n_estimators):\n",
    "    oob_sample = ~clf.estimators_samples_[i]\n",
    "    y_pred_ = clf.estimators_[i].predict(X_train.values[oob_sample])\n",
    "    errors[i] = metrics.accuracy_score(y_pred_, y_train.values[oob_sample])\n",
    "    y_pred_all_[:, i] = clf.estimators_[i].predict(X_test)\n",
    "    \n",
    "alpha = (1 - errors) / (1 - errors).sum()\n",
    "y_pred = (np.sum(y_pred_all_ * alpha, axis=1) >= 0.5).astype(np.int)\n",
    "\n",
    "## Desempeño al hacer votación ponderada\n",
    "from sklearn import metrics\n",
    "m2_f1_VP = metrics.f1_score(y_pred, y_test)\n",
    "f1.append(m2_f1_VP)\n",
    "print (\"m2_f1_VP\", str(m2_f1_VP))\n",
    "m2_accuracy_VP = metrics.accuracy_score(y_pred, y_test)\n",
    "accuracy.append(m2_accuracy_VP)\n",
    "print (\"m2_accuracy_VP\", str(m2_f1_VP))\n",
    "\n",
    "#100 regresiones logísticas\n",
    "## Definición del modelo BaggingClassifier de la libreria sklearn\n",
    "clf = BaggingClassifier(base_estimator=linear_model.LogisticRegression(), n_estimators=100, bootstrap=True,\n",
    "                        random_state=55, n_jobs=-1, oob_score=True)\n",
    "\n",
    "## Predicción y desempeño al hacer votación mayoritaria\n",
    "clf.fit(X_train, y_train)\n",
    "y_pred = clf.predict(X_test)\n",
    "metrics.f1_score(y_pred, y_test), metrics.accuracy_score(y_pred, y_test)\n",
    "\n",
    "## Obtención de los pesos alpha de cada modelo de acuerdo al error OOB\n",
    "errors = np.zeros(clf.n_estimators)\n",
    "y_pred_all_ = np.zeros((X_test.shape[0], clf.n_estimators))\n",
    "\n",
    "for i in range(clf.n_estimators):\n",
    "    oob_sample = ~clf.estimators_samples_[i]\n",
    "    y_pred_ = clf.estimators_[i].predict(X_train.values[oob_sample])\n",
    "    errors[i] = metrics.accuracy_score(y_pred_, y_train.values[oob_sample])\n",
    "    y_pred_all_[:, i] = clf.estimators_[i].predict(X_test)\n",
    "    \n",
    "alpha = (1 - errors) / (1 - errors).sum()\n",
    "y_pred = (np.sum(y_pred_all_ * alpha, axis=1) >= 0.5).astype(np.int)\n",
    "\n",
    "## Desempeño al hacer votación ponderada\n",
    "from sklearn import metrics\n",
    "m3_f1_VP = metrics.f1_score(y_pred, y_test)\n",
    "f1.append(m3_f1_VP)\n",
    "print (\"m3_f1_VP\", str(m3_f1_VP))\n",
    "m3_accuracy_VP = metrics.accuracy_score(y_pred, y_test)\n",
    "accuracy.append(m3_accuracy_VP)\n",
    "print (\"m3_accuracy_VP\", str(m3_f1_VP))"
   ]
  },
  {
   "cell_type": "markdown",
   "metadata": {},
   "source": [
    "### Punto 9 - Comparación y análisis de resultados\n",
    "En la celda 9 comente sobre los resultados obtenidos con las metodologías usadas en los puntos 7 y 8, compare los resultados y enuncie posibles ventajas o desventajas de cada una de ellas."
   ]
  },
  {
   "cell_type": "code",
   "execution_count": 85,
   "metadata": {},
   "outputs": [
    {
     "data": {
      "image/png": "[encoded data removed]",
      "text/plain": [
       "<Figure size 432x288 with 1 Axes>"
      ]
     },
     "metadata": {},
     "output_type": "display_data"
    },
    {
     "data": {
      "text/plain": [
       "<Figure size 1152x864 with 0 Axes>"
      ]
     },
     "metadata": {},
     "output_type": "display_data"
    }
   ],
   "source": [
    "# Datos para los grupos A y B\n",
    "\n",
    "# Configuración de las posiciones de las barras y su ancho\n",
    "posiciones_barras = np.arange(len(accuracy))\n",
    "ancho_barras = 0.35\n",
    "\n",
    "# Crear el gráfico de barras agrupadas\n",
    "fig, ax = plt.subplots()\n",
    "ax.bar(posiciones_barras, accuracy, ancho_barras, label='Accuracy')\n",
    "ax.bar(posiciones_barras + ancho_barras, f1, ancho_barras, label='F1')\n",
    "\n",
    "# Agregar etiquetas a las barras\n",
    "for i, valor in enumerate(accuracy):\n",
    "    plt.text(i, valor + 0.01, str(round(valor,2)), ha='center', va='bottom')\n",
    "for i, valor in enumerate(f1):\n",
    "    plt.text(i + ancho_barras, valor + 0.01, str(round(valor,2)), ha='center', va='bottom')\n",
    "\n",
    "# Configuración del gráfico\n",
    "plt.xticks(posiciones_barras + ancho_barras / 2, ['Mod 1 - VM', 'Mod 2 - VM', 'Mod 3 - VM', 'Mod 1 - VP', 'Mod 2 - VP', 'Mod 3 - VP'])\n",
    "plt.style.use('seaborn-whitegrid')\n",
    "plt.legend()\n",
    "ax.set_ylim(0, 1)\n",
    "fig = plt.figure(figsize=(16, 12))\n",
    "plt.show()"
   ]
  },
  {
   "cell_type": "markdown",
   "metadata": {},
   "source": [
    "* El Modelo 2 (100 árboles con profundidad de 30 y min_leaf de 3) con votación mayoritaria y el Modelo 1 (100 árboles con profundidad de 30) empataron en desempeño con Accuracy y F1 de 0.66\n",
    "* Los de 100 Reg. Logísticas tanto para Votación Mayoritaria como para Votación Ponderada obtuvieron los peores índices de desempeño.\n",
    "* En conclusión los modelos de árboles de decisión en comparación con los modelos de Reg. Logística, suelen tener mejor desempeño de predicción. En este caso tanto la votación ponderada como la ponderada no obtuvieron mayores diferencias debido a que los OOB estuvieron equilibrados."
   ]
  }
 ],
 "metadata": {
  "kernelspec": {
   "display_name": "Python 3 (ipykernel)",
   "language": "python",
   "name": "python3"
  },
  "language_info": {
   "codemirror_mode": {
    "name": "ipython",
    "version": 3
   },
   "file_extension": ".py",
   "mimetype": "text/x-python",
   "name": "python",
   "nbconvert_exporter": "python",
   "pygments_lexer": "ipython3",
   "version": "3.10.7"
  }
 },
 "nbformat": 4,
 "nbformat_minor": 4
}
